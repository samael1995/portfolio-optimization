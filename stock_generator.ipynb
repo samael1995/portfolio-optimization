{
 "cells": [
  {
   "cell_type": "code",
   "execution_count": 4,
   "metadata": {},
   "outputs": [
    {
     "name": "stdout",
     "output_type": "stream",
     "text": [
      "[*********************100%%**********************]  9 of 9 completed\n"
     ]
    }
   ],
   "source": [
    "import pandas_datareader.data as web\n",
    "import datetime\n",
    "import yfinance as yf\n",
    "yf.pdr_override()\n",
    "\n",
    "\n",
    "start_date = datetime.datetime(2020,4,1)\n",
    "end_date = datetime.datetime(2023,8,30)\n",
    "\n",
    "def get_stock_price(ticker):\n",
    "    prices = web.get_data_yahoo(ticker,start_date,end_date)\n",
    "    prices = prices[\"Adj Close\"].dropna(how=\"all\") \n",
    "    return prices\n",
    "\n",
    "\n",
    "ticker_list = ['INFY.NS','TCS.NS','TATAMOTORS.NS','MARUTI.NS',\n",
    "\t'SUNPHARMA.NS','CIPLA.NS','ITC.NS','MARICO.NS','GOLDBEES.NS']\n",
    "portfolio = get_stock_price(ticker_list)\n",
    "portfolio.to_csv(\"yahoo_stock.csv\", index=True)"
   ]
  }
 ],
 "metadata": {
  "kernelspec": {
   "display_name": ".venv",
   "language": "python",
   "name": "python3"
  },
  "language_info": {
   "codemirror_mode": {
    "name": "ipython",
    "version": 3
   },
   "file_extension": ".py",
   "mimetype": "text/x-python",
   "name": "python",
   "nbconvert_exporter": "python",
   "pygments_lexer": "ipython3",
   "version": "3.11.4"
  },
  "orig_nbformat": 4
 },
 "nbformat": 4,
 "nbformat_minor": 2
}
